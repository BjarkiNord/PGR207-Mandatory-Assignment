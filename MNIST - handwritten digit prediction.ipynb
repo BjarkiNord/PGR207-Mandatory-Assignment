{
 "cells": [
  {
   "cell_type": "markdown",
   "id": "4ca43349",
   "metadata": {},
   "source": [
    "Code taken from and changed for my purpose:\n",
    "\n",
    "https://github.com/albumentations-team/albumentations_examples/blob/master/notebooks/\n",
    "\n",
    "https://colab.research.google.com/github/wandb/examples/blob/master/colabs/pytorch/Simple_PyTorch_Integration.ipynb#scrollTo=ciNgNihpqlCR"
   ]
  },
  {
   "cell_type": "code",
   "execution_count": 1,
   "id": "bf14cc2c",
   "metadata": {
    "scrolled": false
   },
   "outputs": [],
   "source": [
    "#!pip install wandb onnx -Uq"
   ]
  },
  {
   "cell_type": "code",
   "execution_count": 2,
   "id": "9d025f02",
   "metadata": {},
   "outputs": [],
   "source": [
    "import os\n",
    "import random\n",
    "\n",
    "import numpy as np\n",
    "import torch\n",
    "import torch.nn as nn\n",
    "import torchvision\n",
    "import torchvision.transforms as transforms\n",
    "from tqdm.auto import tqdm\n",
    "\n",
    "# Ensure deterministic behavior\n",
    "torch.backends.cudnn.deterministic = True\n",
    "random.seed(hash(\"setting random seeds\") % 2**32 - 1)\n",
    "np.random.seed(hash(\"improves reproducibility\") % 2**32 - 1)\n",
    "torch.manual_seed(hash(\"by removing stochasticity\") % 2**32 - 1)\n",
    "torch.cuda.manual_seed_all(hash(\"so runs are repeatable\") % 2**32 - 1)\n",
    "\n",
    "# Device configuration\n",
    "device = torch.device(\"cuda:0\" if torch.cuda.is_available() else \"cpu\")\n",
    "\n",
    "# remove slow mirror from list of MNIST mirrors\n",
    "torchvision.datasets.MNIST.mirrors = [mirror for mirror in torchvision.datasets.MNIST.mirrors\n",
    "                                      if not mirror.startswith(\"http://yann.lecun.com\")]"
   ]
  },
  {
   "cell_type": "code",
   "execution_count": 3,
   "id": "efc156c5",
   "metadata": {},
   "outputs": [
    {
     "name": "stderr",
     "output_type": "stream",
     "text": [
      "\u001b[34m\u001b[1mwandb\u001b[0m: Currently logged in as: \u001b[33mbjno005\u001b[0m (\u001b[33mdeep_learning_2023\u001b[0m). Use \u001b[1m`wandb login --relogin`\u001b[0m to force relogin\n"
     ]
    },
    {
     "data": {
      "text/plain": [
       "True"
      ]
     },
     "execution_count": 3,
     "metadata": {},
     "output_type": "execute_result"
    }
   ],
   "source": [
    "import wandb\n",
    "wandb.login()"
   ]
  },
  {
   "cell_type": "code",
   "execution_count": 4,
   "id": "27d437eb",
   "metadata": {},
   "outputs": [],
   "source": [
    "# Config settings for the model.\n",
    "config = dict(\n",
    "    epochs=20,\n",
    "    classes=10,\n",
    "    kernels=[16, 32],\n",
    "    batch_size=128,\n",
    "    learning_rate=0.003,\n",
    "    dataset=\"MNIST-digit\",\n",
    "    architecture=\"CNN\")"
   ]
  },
  {
   "cell_type": "code",
   "execution_count": 5,
   "id": "eaba4d30",
   "metadata": {},
   "outputs": [],
   "source": [
    "def model_pipeline(hyperparameters):\n",
    "\n",
    "    # tell wandb to get started\n",
    "    with wandb.init(project=\"MNIST-digit-classification-pgr207\", config=hyperparameters):\n",
    "      # access all HPs through wandb.config, so logging matches execution!\n",
    "      config = wandb.config\n",
    "\n",
    "      # make the model, data, and optimization problem\n",
    "      model, train_loader, test_loader, criterion, optimizer = make(config)\n",
    "      print(model)\n",
    "\n",
    "      # and use them to train the model\n",
    "      train(model, train_loader, criterion, optimizer, config)\n",
    "\n",
    "      # and test its final performance\n",
    "      test(model, test_loader)\n",
    "\n",
    "    return model"
   ]
  },
  {
   "cell_type": "code",
   "execution_count": 6,
   "id": "748fac52",
   "metadata": {},
   "outputs": [],
   "source": [
    "def make(config):\n",
    "    # Make the data\n",
    "    train, test = get_data(train=True), get_data(train=False)\n",
    "    train_loader = make_loader(train, batch_size=config.batch_size)\n",
    "    test_loader = make_loader(test, batch_size=config.batch_size)\n",
    "    \n",
    "    ###################\n",
    "    # Model functions #\n",
    "    ###################\n",
    "    \n",
    "    # Functions to make the different kinds of models\n",
    "    #model = ConvNet(config.kernels, config.classes).to(device) #conv2d model\n",
    "    #model = Conv1DNet(config.kernels, config.classes).to(device) # conv1d model\n",
    "    #model = MLP(config.kernels, config.classes).to(device) # first mlp model\n",
    "    #model = MLPv2(config.kernels, config.classes).to(device) # second mlp model\n",
    "    model = MLPv3(config.kernels, config.classes).to(device) # second mlp model\n",
    "\n",
    "    # Make the loss and optimizer\n",
    "    criterion = nn.CrossEntropyLoss()\n",
    "    \n",
    "    #######################\n",
    "    # Optimizer functions #\n",
    "    #######################\n",
    "    \n",
    "    # 1st optimizer ADAM\n",
    "    #optimizer = torch.optim.Adam(\n",
    "    #    model.parameters(), lr=config.learning_rate)\n",
    "    \n",
    "    # 2nd optimizer Stochastic gradient descent\n",
    "    #optimizer = torch.optim.SGD(\n",
    "    #    model.parameters(), lr=config.learning_rate)\n",
    "    \n",
    "    # 3rd optimizer RAdam\n",
    "    optimizer = torch.optim.RAdam(\n",
    "        model.parameters(), lr=config.learning_rate)\n",
    "    \n",
    "    return model, train_loader, test_loader, criterion, optimizer"
   ]
  },
  {
   "cell_type": "code",
   "execution_count": 7,
   "id": "1921e478",
   "metadata": {},
   "outputs": [],
   "source": [
    "# Getting the data and doing data augmentation.\n",
    "def get_data(slice=5, train=True):\n",
    "    full_dataset = torchvision.datasets.MNIST(root=\".\",\n",
    "                                              train=train, \n",
    "                                              transform=transforms.Compose([\n",
    "                                                  transforms.RandomRotation(15), # First data augmentation.\n",
    "                                                  transforms.ColorJitter(brightness=0.25, contrast=0.25), # Second data augmentation\n",
    "                                                  #transforms.RandomResizedCrop((28,28), scale=(0.9, 1.0)), # Third data augmentaton\n",
    "                                                  transforms.ToTensor(),\n",
    "                                              ]),\n",
    "                                              download=True)\n",
    "    #  equiv to slicing with [::slice] \n",
    "    sub_dataset = torch.utils.data.Subset(\n",
    "        full_dataset, indices=range(0, len(full_dataset), slice)\n",
    "    )\n",
    "    \n",
    "    return sub_dataset\n",
    "\n",
    "\n",
    "def make_loader(dataset, batch_size):\n",
    "    loader = torch.utils.data.DataLoader(dataset=dataset,\n",
    "                                         batch_size=batch_size, \n",
    "                                         shuffle=True,\n",
    "                                         pin_memory=True, num_workers=2)\n",
    "    return loader"
   ]
  },
  {
   "cell_type": "markdown",
   "id": "810e5168",
   "metadata": {},
   "source": [
    "# First MLP model\n",
    "This code defines a multi-layer perceptron (MLP) model for classification. The model consists of three hidden layers and an output layer. Each hidden layer applies a linear transformation followed by Sigmoid activation. The output layer is a simple linear layer that reduces the dimensionality of the output to the number of classes."
   ]
  },
  {
   "cell_type": "code",
   "execution_count": 8,
   "id": "714dc9b4",
   "metadata": {},
   "outputs": [],
   "source": [
    "# This model got accuracy of 87% after 5 epochs decided to make another model to try to get a better accuracy.\n",
    "# 94,5% at 20 epochs\n",
    "class MLP(nn.Module):\n",
    "    def __init__(self, kernels, classes = 10):\n",
    "        super(MLP, self).__init__()\n",
    "        \n",
    "        self.layer1 = nn.Sequential(\n",
    "            nn.Flatten(start_dim=1, end_dim=-1),\n",
    "            nn.Linear(in_features=784, out_features=64, bias=True),\n",
    "            nn.Sigmoid()\n",
    "        )\n",
    "        self.layer2 = nn.Sequential(\n",
    "            nn.Linear(in_features=64, out_features=32, bias=True),\n",
    "            nn.Sigmoid(),\n",
    "        )\n",
    "        self.layer3 = nn.Sequential(\n",
    "            nn.Linear(in_features=32, out_features=16, bias=True),\n",
    "            nn.Sigmoid(),\n",
    "        )\n",
    "        self.layer4 = nn.Sequential(\n",
    "            nn.Linear(in_features=16, out_features=10, bias=True),\n",
    "        )\n",
    "    \n",
    "    def forward(self, x):\n",
    "        out = self.layer1(x)\n",
    "        out = self.layer2(out)\n",
    "        out = self.layer3(out)\n",
    "        out = self.layer4(out)\n",
    "        return out\n",
    "        "
   ]
  },
  {
   "cell_type": "markdown",
   "id": "64596f2f",
   "metadata": {},
   "source": [
    "# Second MLP model"
   ]
  },
  {
   "cell_type": "markdown",
   "id": "d6be1437",
   "metadata": {},
   "source": [
    "This code defines a multi-layer perceptron (MLP) model for classification. The model consists of three hidden layers and an output layer. Each hidden layer applies a linear transformation followed by batch normalization, ReLU activation and dropout. The output layer is a simple linear layer that reduces the dimensionality of the output to the number of classes."
   ]
  },
  {
   "cell_type": "code",
   "execution_count": 9,
   "id": "3986728b",
   "metadata": {},
   "outputs": [],
   "source": [
    "# Added dropout klayers and batch normalization.\n",
    "class MLPv2(nn.Module):\n",
    "    def __init__(self, kernels, classes = 10):\n",
    "        super(MLPv2, self).__init__()\n",
    "        \n",
    "        # First layer: input is flattened, then passed through a linear layer,\n",
    "        # batch normalization, ReLU activation and dropout\n",
    "        self.layer1 = nn.Sequential(\n",
    "            nn.Flatten(start_dim=1, end_dim=-1),  # Flatten the input\n",
    "            nn.Linear(in_features=784, out_features=64),  # Linear layer\n",
    "            nn.BatchNorm1d(64),  # Batch normalization\n",
    "            nn.ReLU(),  # ReLU activation\n",
    "            nn.Dropout(0.5)  # Dropout for regularization\n",
    "        )\n",
    "        \n",
    "        # Second layer: similar to the first layer but with different input/output sizes\n",
    "        self.layer2 = nn.Sequential(\n",
    "            nn.Linear(in_features=64, out_features=32),\n",
    "            nn.BatchNorm1d(32),\n",
    "            nn.ReLU(),\n",
    "            nn.Dropout(0.5)\n",
    "        )\n",
    "        \n",
    "        # Third layer: similar to the first layer but with different input/output sizes\n",
    "        self.layer3 = nn.Sequential(\n",
    "            nn.Linear(in_features=32, out_features=16),\n",
    "            nn.BatchNorm1d(16),\n",
    "            nn.ReLU(),\n",
    "            nn.Dropout(0.5)\n",
    "        )\n",
    "        \n",
    "        # Fourth (output) layer: a linear layer that reduces the output to the number of classes\n",
    "        self.layer4 = nn.Sequential(\n",
    "            nn.Linear(in_features=16, out_features=10),\n",
    "        )\n",
    "    \n",
    "    def forward(self, x):\n",
    "        # Pass the input through each layer in turn\n",
    "        out = self.layer1(x)\n",
    "        out = self.layer2(out)\n",
    "        out = self.layer3(out)\n",
    "        out = self.layer4(out)\n",
    "        \n",
    "        return out\n"
   ]
  },
  {
   "cell_type": "markdown",
   "id": "9c56528b",
   "metadata": {},
   "source": [
    "# Third MLP"
   ]
  },
  {
   "cell_type": "markdown",
   "id": "4df96279",
   "metadata": {},
   "source": [
    "This code defines a multi-layer perceptron (MLP) model for classification. The model consists of the same layers as the second MLP model except I have removed the dropout and added another hidden layer in the middle of the network."
   ]
  },
  {
   "cell_type": "code",
   "execution_count": 10,
   "id": "36a34f22",
   "metadata": {},
   "outputs": [],
   "source": [
    "# Latest MLP model. Removed dropout layers.\n",
    "class MLPv3(nn.Module):\n",
    "    def __init__(self, kernels, classes = 10):\n",
    "        super(MLPv3, self).__init__()\n",
    "        \n",
    "        # First layer: input is flattened, then passed through a linear layer,\n",
    "        # batch normalization, ReLU activation\n",
    "        self.layer1 = nn.Sequential(\n",
    "            nn.Flatten(start_dim=1, end_dim=-1),  # Flatten the input\n",
    "            nn.Linear(in_features=784, out_features=128),  # Linear layer\n",
    "            nn.BatchNorm1d(128),  # Batch normalization\n",
    "            nn.ReLU()  # ReLU activation\n",
    "        )\n",
    "        \n",
    "        # Second layer: similar to the first layer but with different input/output sizes\n",
    "        self.layer2 = nn.Sequential(\n",
    "            nn.Linear(in_features=128, out_features=64),\n",
    "            nn.BatchNorm1d(64),\n",
    "            nn.ReLU()\n",
    "        )\n",
    "        \n",
    "        # Third layer: similar to the first layer but with different input/output sizes\n",
    "        self.layer3 = nn.Sequential(\n",
    "            nn.Linear(in_features=64, out_features=32),\n",
    "            nn.BatchNorm1d(32),\n",
    "            nn.ReLU()\n",
    "        )\n",
    "        \n",
    "        # Fourth layer: similar to the first layer but with different input/output sizes\n",
    "        self.layer4 = nn.Sequential(\n",
    "            nn.Linear(in_features=32, out_features=16),\n",
    "            nn.BatchNorm1d(16),\n",
    "            #nn.LeakyReLU()  # comment in and out as needed to change the last actication funciton\n",
    "            nn.Sigmoid()   # comment in and out as needed to change the last actication funciton \n",
    "            #nn.Tanh()      # comment in and out as needed to change the last actication funciton\n",
    "        )\n",
    "        \n",
    "        # Fifth (output) layer: a linear layer that reduces the output to the number of classes\n",
    "        self.layer5 = nn.Sequential(\n",
    "            nn.Linear(in_features=16, out_features=10),\n",
    "        )\n",
    "    \n",
    "    def forward(self, x):\n",
    "        # Pass the input through each layer in turn\n",
    "        out = self.layer1(x)\n",
    "        out = self.layer2(out)\n",
    "        out = self.layer3(out)\n",
    "        out = self.layer4(out)\n",
    "        out = self.layer5(out)\n",
    "        \n",
    "        return out\n"
   ]
  },
  {
   "cell_type": "markdown",
   "id": "c55d16ba",
   "metadata": {},
   "source": [
    "# Conv2DNet"
   ]
  },
  {
   "cell_type": "markdown",
   "id": "e473a1c0",
   "metadata": {},
   "source": [
    "This code defines a Convolutional Neural Network (CNN) model using 2D convolutions for classification. The model consists of two convolutional layers and a fully connected output layer. Each convolutional layer applies a 2D convolution followed by ReLU activation and max pooling. The output of the last convolutional layer is flattened and then passed through the fully connected layer to produce class scores."
   ]
  },
  {
   "cell_type": "code",
   "execution_count": 11,
   "id": "814e5c2c",
   "metadata": {},
   "outputs": [],
   "source": [
    "# Define a Convolutional Neural Network (CNN) model Like the model in the book.\n",
    "class ConvNet(nn.Module):\n",
    "    def __init__(self, kernels, classes=10):\n",
    "        super(ConvNet, self).__init__()\n",
    "        \n",
    "        # First convolutional layer: applies a 2D convolution, followed by ReLU activation and max pooling\n",
    "        self.layer1 = nn.Sequential(\n",
    "            nn.Conv2d(1, kernels[0], kernel_size=5, stride=1, padding=2),  # 2D convolution\n",
    "            nn.ReLU(),  # ReLU activation\n",
    "            nn.MaxPool2d(kernel_size=2, stride=2)  # Max pooling\n",
    "        )\n",
    "        \n",
    "        # Second convolutional layer: takes the output of the first layer as input, followed by ReLU and max pooling\n",
    "        self.layer2 = nn.Sequential(\n",
    "            nn.Conv2d(kernels[0], kernels[1], kernel_size=5, stride=1, padding=2),  # 2D convolution\n",
    "            nn.ReLU(),  # ReLU activation\n",
    "            nn.MaxPool2d(kernel_size=2, stride=2)  # Max pooling\n",
    "        )\n",
    "        \n",
    "        # Fully connected (linear) layer: takes the flattened output of the second convolutional layer and outputs class scores\n",
    "        self.fc = nn.Linear(7 * 7 * kernels[-1], classes)\n",
    "        \n",
    "    def forward(self, x):\n",
    "        out = self.layer1(x)  # Pass through the first layer\n",
    "        out = self.layer2(out)  # Pass through the second layer\n",
    "        out = out.reshape(out.size(0), -1)  # Flatten the output for the fully connected layer\n",
    "        out = self.fc(out)  # Pass through the fully connected layer to get class scores\n",
    "        return out\n"
   ]
  },
  {
   "cell_type": "markdown",
   "id": "9a0f5d01",
   "metadata": {},
   "source": [
    "# Conv1DNet"
   ]
  },
  {
   "cell_type": "markdown",
   "id": "77983bcf",
   "metadata": {},
   "source": [
    "This code defines a Convolutional Neural Network (CNN) model using 1D convolutions for classification. The model consists of two convolutional layers and a fully connected output layer. Each convolutional layer applies a 1D convolution followed by ReLU activation and max pooling. The output of the last convolutional layer is flattened and then passed through the fully connected layer to produce class scores."
   ]
  },
  {
   "cell_type": "code",
   "execution_count": 12,
   "id": "d01d5cba",
   "metadata": {},
   "outputs": [],
   "source": [
    "class Conv1DNet(nn.Module):\n",
    "    def __init__(self, kernels, classes=10):\n",
    "        super(Conv1DNet, self).__init__()\n",
    "        \n",
    "        # First convolutional layer: applies a 1D convolution, followed by ReLU activation and max pooling\n",
    "        self.layer1 = nn.Sequential(\n",
    "            nn.Conv1d(1, kernels[0], kernel_size=5, stride=1, padding=2),  # 1D convolution\n",
    "            nn.ReLU(),  # ReLU activation\n",
    "            nn.MaxPool1d(kernel_size=2, stride=2)  # Max pooling\n",
    "        )\n",
    "        \n",
    "        # Second convolutional layer: similar to the first but takes the output of the first layer as input\n",
    "        self.layer2 = nn.Sequential(\n",
    "            nn.Conv1d(kernels[0], kernels[1], kernel_size=5, stride=1, padding=2),  # 1D convolution\n",
    "            nn.ReLU(),  # ReLU activation\n",
    "            nn.MaxPool1d(kernel_size=2, stride=2)  # Max pooling\n",
    "        )\n",
    "        \n",
    "        # Fully connected (linear) layer: takes the flattened output of the second convolutional layer and outputs class scores\n",
    "        self.fc = nn.Linear(6272, classes)\n",
    "        \n",
    "    def forward(self, x):\n",
    "        x = x.view(x.size(0), 1, -1)  # Flatten the 2D image to 1D for Conv1D\n",
    "        out = self.layer1(x)  # Pass through the first layer\n",
    "        out = self.layer2(out)  # Pass through the second layer\n",
    "        out = out.view(out.size(0), -1)  # Flatten the output for the fully connected layer\n",
    "        out = self.fc(out)  # Pass through the fully connected layer to get class scores\n",
    "        return out"
   ]
  },
  {
   "cell_type": "code",
   "execution_count": 13,
   "id": "5eac719e",
   "metadata": {},
   "outputs": [
    {
     "name": "stdout",
     "output_type": "stream",
     "text": [
      "The total number of features is: 6272\n"
     ]
    }
   ],
   "source": [
    "# Code to get the total amount of featers for the conv1d model\n",
    "# Initialize the model\n",
    "model = Conv1DNet(config['kernels'], config['classes']).to(device)\n",
    "\n",
    "# Create a dummy input with the same size as your actual input data\n",
    "dummy_input = torch.randn(config['batch_size'], 1, 28*28)\n",
    "\n",
    "# Pass the dummy input through all layers except the Linear layer\n",
    "out = model.layer1(dummy_input)\n",
    "out = model.layer2(out)\n",
    "\n",
    "# Calculate the total number of features\n",
    "total_features = out.shape[1] * out.shape[2]\n",
    "\n",
    "print(f'The total number of features is: {total_features}')"
   ]
  },
  {
   "cell_type": "markdown",
   "id": "3f63d05a",
   "metadata": {},
   "source": [
    "# Training models"
   ]
  },
  {
   "cell_type": "code",
   "execution_count": 14,
   "id": "60e0168d",
   "metadata": {},
   "outputs": [],
   "source": [
    "def train(model, loader, criterion, optimizer, config):\n",
    "    # Tell wandb to watch what the model gets up to: gradients, weights, and more!\n",
    "    wandb.watch(model, criterion, log=\"all\", log_freq=10)\n",
    "\n",
    "    # Run training and track with wandb\n",
    "    total_batches = len(loader) * config.epochs\n",
    "    example_ct = 0  # number of examples seen\n",
    "    batch_ct = 0\n",
    "    for epoch in tqdm(range(config.epochs)):\n",
    "        for _, (images, labels) in enumerate(loader):\n",
    "\n",
    "            loss = train_batch(images, labels, model, optimizer, criterion)\n",
    "            example_ct +=  len(images)\n",
    "            batch_ct += 1\n",
    "\n",
    "            # Report metrics every 25th batch\n",
    "            if ((batch_ct + 1) % 25) == 0:\n",
    "                train_log(loss, example_ct, epoch)\n",
    "\n",
    "\n",
    "def train_batch(images, labels, model, optimizer, criterion):\n",
    "    images, labels = images.to(device), labels.to(device)\n",
    "    \n",
    "    # Forward pass \n",
    "    outputs = model(images)\n",
    "    loss = criterion(outputs, labels)\n",
    "    \n",
    "    # Backward pass\n",
    "    optimizer.zero_grad()\n",
    "    loss.backward()\n",
    "\n",
    "    # Step with optimizer\n",
    "    optimizer.step()\n",
    "\n",
    "    return loss"
   ]
  },
  {
   "cell_type": "code",
   "execution_count": 15,
   "id": "998723f8",
   "metadata": {},
   "outputs": [],
   "source": [
    "def train_log(loss, example_ct, epoch):\n",
    "    # Where the magic happens\n",
    "    wandb.log({\"epoch\": epoch, \"loss\": loss}, step=example_ct)\n",
    "    print(f\"Loss after {str(example_ct).zfill(5)} examples: {loss:.8f}\")"
   ]
  },
  {
   "cell_type": "code",
   "execution_count": 16,
   "id": "c4c3d19a",
   "metadata": {},
   "outputs": [],
   "source": [
    "def test(model, test_loader):\n",
    "    model.eval()\n",
    "\n",
    "    # Run the model on some test examples\n",
    "    with torch.no_grad():\n",
    "        correct, total = 0, 0\n",
    "        for images, labels in test_loader:\n",
    "            images, labels = images.to(device), labels.to(device)\n",
    "            outputs = model(images)\n",
    "            _, predicted = torch.max(outputs.data, 1)\n",
    "            total += labels.size(0)\n",
    "            correct += (predicted == labels).sum().item()\n",
    "\n",
    "        print(f\"Accuracy of the model on the {total} \" +\n",
    "              f\"test images: {correct / total:%}\")\n",
    "        \n",
    "        wandb.log({\"test_accuracy\": correct / total})\n",
    "\n",
    "    # Save the model in the exchangeable ONNX format\n",
    "    torch.onnx.export(model, images, \"model.onnx\")\n",
    "    wandb.save(\"model.onnx\")\n",
    "    "
   ]
  },
  {
   "cell_type": "code",
   "execution_count": 17,
   "id": "56439ffd",
   "metadata": {
    "scrolled": false
   },
   "outputs": [
    {
     "data": {
      "text/html": [
       "wandb version 0.15.12 is available!  To upgrade, please run:\n",
       " $ pip install wandb --upgrade"
      ],
      "text/plain": [
       "<IPython.core.display.HTML object>"
      ]
     },
     "metadata": {},
     "output_type": "display_data"
    },
    {
     "data": {
      "text/html": [
       "Tracking run with wandb version 0.15.10"
      ],
      "text/plain": [
       "<IPython.core.display.HTML object>"
      ]
     },
     "metadata": {},
     "output_type": "display_data"
    },
    {
     "data": {
      "text/html": [
       "Run data is saved locally in <code>C:\\Users\\bjark\\5-semester\\PGR207\\Mandatory Assignment\\wandb\\run-20231011_115951-0ka8ov30</code>"
      ],
      "text/plain": [
       "<IPython.core.display.HTML object>"
      ]
     },
     "metadata": {},
     "output_type": "display_data"
    },
    {
     "data": {
      "text/html": [
       "Syncing run <strong><a href='https://wandb.ai/deep_learning_2023/MNIST-digit-classification-pgr207/runs/0ka8ov30' target=\"_blank\">restful-hill-45</a></strong> to <a href='https://wandb.ai/deep_learning_2023/MNIST-digit-classification-pgr207' target=\"_blank\">Weights & Biases</a> (<a href='https://wandb.me/run' target=\"_blank\">docs</a>)<br/>"
      ],
      "text/plain": [
       "<IPython.core.display.HTML object>"
      ]
     },
     "metadata": {},
     "output_type": "display_data"
    },
    {
     "data": {
      "text/html": [
       " View project at <a href='https://wandb.ai/deep_learning_2023/MNIST-digit-classification-pgr207' target=\"_blank\">https://wandb.ai/deep_learning_2023/MNIST-digit-classification-pgr207</a>"
      ],
      "text/plain": [
       "<IPython.core.display.HTML object>"
      ]
     },
     "metadata": {},
     "output_type": "display_data"
    },
    {
     "data": {
      "text/html": [
       " View run at <a href='https://wandb.ai/deep_learning_2023/MNIST-digit-classification-pgr207/runs/0ka8ov30' target=\"_blank\">https://wandb.ai/deep_learning_2023/MNIST-digit-classification-pgr207/runs/0ka8ov30</a>"
      ],
      "text/plain": [
       "<IPython.core.display.HTML object>"
      ]
     },
     "metadata": {},
     "output_type": "display_data"
    },
    {
     "name": "stdout",
     "output_type": "stream",
     "text": [
      "MLPv3(\n",
      "  (layer1): Sequential(\n",
      "    (0): Flatten(start_dim=1, end_dim=-1)\n",
      "    (1): Linear(in_features=784, out_features=128, bias=True)\n",
      "    (2): BatchNorm1d(128, eps=1e-05, momentum=0.1, affine=True, track_running_stats=True)\n",
      "    (3): LeakyReLU(negative_slope=0.01)\n",
      "  )\n",
      "  (layer2): Sequential(\n",
      "    (0): Linear(in_features=128, out_features=64, bias=True)\n",
      "    (1): BatchNorm1d(64, eps=1e-05, momentum=0.1, affine=True, track_running_stats=True)\n",
      "    (2): LeakyReLU(negative_slope=0.01)\n",
      "  )\n",
      "  (layer3): Sequential(\n",
      "    (0): Linear(in_features=64, out_features=32, bias=True)\n",
      "    (1): BatchNorm1d(32, eps=1e-05, momentum=0.1, affine=True, track_running_stats=True)\n",
      "    (2): LeakyReLU(negative_slope=0.01)\n",
      "  )\n",
      "  (layer4): Sequential(\n",
      "    (0): Linear(in_features=32, out_features=16, bias=True)\n",
      "    (1): BatchNorm1d(16, eps=1e-05, momentum=0.1, affine=True, track_running_stats=True)\n",
      "    (2): Sigmoid()\n",
      "  )\n",
      "  (layer5): Sequential(\n",
      "    (0): Linear(in_features=16, out_features=10, bias=True)\n",
      "  )\n",
      ")\n"
     ]
    },
    {
     "data": {
      "application/vnd.jupyter.widget-view+json": {
       "model_id": "a72113b41bf944b79637d4cf5522703a",
       "version_major": 2,
       "version_minor": 0
      },
      "text/plain": [
       "  0%|          | 0/20 [00:00<?, ?it/s]"
      ]
     },
     "metadata": {},
     "output_type": "display_data"
    },
    {
     "name": "stdout",
     "output_type": "stream",
     "text": [
      "Loss after 03072 examples: 2.28107810\n",
      "Loss after 06272 examples: 2.11455154\n",
      "Loss after 09472 examples: 2.03084850\n",
      "Loss after 12640 examples: 1.96760666\n",
      "Loss after 15840 examples: 1.89694870\n",
      "Loss after 19040 examples: 1.86847055\n",
      "Loss after 22240 examples: 1.80164826\n",
      "Loss after 25408 examples: 1.72789240\n",
      "Loss after 28608 examples: 1.64718163\n",
      "Loss after 31808 examples: 1.55817318\n",
      "Loss after 35008 examples: 1.48586202\n",
      "Loss after 38176 examples: 1.41408932\n",
      "Loss after 41376 examples: 1.30658150\n",
      "Loss after 44576 examples: 1.21463144\n",
      "Loss after 47776 examples: 1.12426674\n",
      "Loss after 50944 examples: 1.06831110\n",
      "Loss after 54144 examples: 1.00182259\n",
      "Loss after 57344 examples: 0.90050596\n",
      "Loss after 60512 examples: 0.78170323\n",
      "Loss after 63712 examples: 0.76844156\n",
      "Loss after 66912 examples: 0.64471918\n",
      "Loss after 70112 examples: 0.61719620\n",
      "Loss after 73280 examples: 0.52422452\n",
      "Loss after 76480 examples: 0.53971839\n",
      "Loss after 79680 examples: 0.48502189\n",
      "Loss after 82880 examples: 0.43508470\n",
      "Loss after 86048 examples: 0.39789009\n",
      "Loss after 89248 examples: 0.36187384\n",
      "Loss after 92448 examples: 0.34109133\n",
      "Loss after 95648 examples: 0.28833932\n",
      "Loss after 98816 examples: 0.27423874\n",
      "Loss after 102016 examples: 0.26017770\n",
      "Loss after 105216 examples: 0.20341460\n",
      "Loss after 108384 examples: 0.26343447\n",
      "Loss after 111584 examples: 0.22886762\n",
      "Loss after 114784 examples: 0.18776134\n",
      "Loss after 117984 examples: 0.26138708\n",
      "Loss after 121152 examples: 0.16354947\n",
      "Loss after 124352 examples: 0.20597164\n",
      "Loss after 127552 examples: 0.19370869\n",
      "Loss after 130752 examples: 0.17872246\n",
      "Loss after 133920 examples: 0.18541873\n",
      "Loss after 137120 examples: 0.15667289\n",
      "Loss after 140320 examples: 0.14146408\n",
      "Loss after 143520 examples: 0.24281891\n",
      "Loss after 146688 examples: 0.15150502\n",
      "Loss after 149888 examples: 0.12553099\n",
      "Loss after 153088 examples: 0.14104478\n",
      "Loss after 156256 examples: 0.20277663\n",
      "Loss after 159456 examples: 0.10552302\n",
      "Loss after 162656 examples: 0.15541936\n",
      "Loss after 165856 examples: 0.16397300\n",
      "Loss after 169024 examples: 0.14722173\n",
      "Loss after 172224 examples: 0.11064773\n",
      "Loss after 175424 examples: 0.11981054\n",
      "Loss after 178624 examples: 0.14861496\n",
      "Loss after 181792 examples: 0.08499680\n",
      "Loss after 184992 examples: 0.11095342\n",
      "Loss after 188192 examples: 0.12908499\n",
      "Loss after 191392 examples: 0.06212654\n",
      "Loss after 194560 examples: 0.08533525\n",
      "Loss after 197760 examples: 0.07445359\n",
      "Loss after 200960 examples: 0.05840258\n",
      "Loss after 204128 examples: 0.16914706\n",
      "Loss after 207328 examples: 0.04943565\n",
      "Loss after 210528 examples: 0.05050686\n",
      "Loss after 213728 examples: 0.08430450\n",
      "Loss after 216896 examples: 0.08585568\n",
      "Loss after 220096 examples: 0.07143407\n",
      "Loss after 223296 examples: 0.05705898\n",
      "Loss after 226496 examples: 0.06828422\n",
      "Loss after 229664 examples: 0.07420332\n",
      "Loss after 232864 examples: 0.03755270\n",
      "Loss after 236064 examples: 0.06964586\n",
      "Loss after 239264 examples: 0.12905444\n",
      "Accuracy of the model on the 2000 test images: 96.600000%\n",
      "================ Diagnostic Run torch.onnx.export version 2.0.1 ================\n",
      "verbose: False, log level: Level.ERROR\n",
      "======================= 0 NONE 0 NOTE 0 WARNING 0 ERROR ========================\n",
      "\n"
     ]
    },
    {
     "data": {
      "text/html": [
       "Waiting for W&B process to finish... <strong style=\"color:green\">(success).</strong>"
      ],
      "text/plain": [
       "<IPython.core.display.HTML object>"
      ]
     },
     "metadata": {},
     "output_type": "display_data"
    },
    {
     "data": {
      "application/vnd.jupyter.widget-view+json": {
       "model_id": "974ca1c56e71450cbaf61864ab6fcca6",
       "version_major": 2,
       "version_minor": 0
      },
      "text/plain": [
       "VBox(children=(Label(value='0.434 MB of 0.434 MB uploaded (0.000 MB deduped)\\r'), FloatProgress(value=1.0, max…"
      ]
     },
     "metadata": {},
     "output_type": "display_data"
    },
    {
     "data": {
      "text/html": [
       "<style>\n",
       "    table.wandb td:nth-child(1) { padding: 0 10px; text-align: left ; width: auto;} td:nth-child(2) {text-align: left ; width: 100%}\n",
       "    .wandb-row { display: flex; flex-direction: row; flex-wrap: wrap; justify-content: flex-start; width: 100% }\n",
       "    .wandb-col { display: flex; flex-direction: column; flex-basis: 100%; flex: 1; padding: 10px; }\n",
       "    </style>\n",
       "<div class=\"wandb-row\"><div class=\"wandb-col\"><h3>Run history:</h3><br/><table class=\"wandb\"><tr><td>epoch</td><td>▁▁▁▁▂▂▂▂▂▂▃▃▃▃▄▄▄▄▄▄▅▅▅▅▅▅▆▆▆▆▇▇▇▇▇▇████</td></tr><tr><td>loss</td><td>█▇▇▇▆▆▅▅▄▄▃▃▃▂▂▂▂▂▂▂▁▁▁▁▁▁▁▁▁▁▁▁▁▁▁▁▁▁▁▁</td></tr><tr><td>test_accuracy</td><td>▁</td></tr></table><br/></div><div class=\"wandb-col\"><h3>Run summary:</h3><br/><table class=\"wandb\"><tr><td>epoch</td><td>19</td></tr><tr><td>loss</td><td>0.12905</td></tr><tr><td>test_accuracy</td><td>0.966</td></tr></table><br/></div></div>"
      ],
      "text/plain": [
       "<IPython.core.display.HTML object>"
      ]
     },
     "metadata": {},
     "output_type": "display_data"
    },
    {
     "data": {
      "text/html": [
       " View run <strong style=\"color:#cdcd00\">restful-hill-45</strong> at: <a href='https://wandb.ai/deep_learning_2023/MNIST-digit-classification-pgr207/runs/0ka8ov30' target=\"_blank\">https://wandb.ai/deep_learning_2023/MNIST-digit-classification-pgr207/runs/0ka8ov30</a><br/>Synced 6 W&B file(s), 0 media file(s), 0 artifact file(s) and 1 other file(s)"
      ],
      "text/plain": [
       "<IPython.core.display.HTML object>"
      ]
     },
     "metadata": {},
     "output_type": "display_data"
    },
    {
     "data": {
      "text/html": [
       "Find logs at: <code>.\\wandb\\run-20231011_115951-0ka8ov30\\logs</code>"
      ],
      "text/plain": [
       "<IPython.core.display.HTML object>"
      ]
     },
     "metadata": {},
     "output_type": "display_data"
    }
   ],
   "source": [
    "# Build, train and analyze the model with the pipeline\n",
    "model = model_pipeline(config)"
   ]
  }
 ],
 "metadata": {
  "kernelspec": {
   "display_name": "Python 3 (ipykernel)",
   "language": "python",
   "name": "python3"
  },
  "language_info": {
   "codemirror_mode": {
    "name": "ipython",
    "version": 3
   },
   "file_extension": ".py",
   "mimetype": "text/x-python",
   "name": "python",
   "nbconvert_exporter": "python",
   "pygments_lexer": "ipython3",
   "version": "3.9.17"
  }
 },
 "nbformat": 4,
 "nbformat_minor": 5
}
